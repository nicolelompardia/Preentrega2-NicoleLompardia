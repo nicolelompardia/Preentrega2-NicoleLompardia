{
  "metadata": {
    "kernelspec": {
      "name": "xpython",
      "display_name": "Python 3.13 (XPython)",
      "language": "python"
    },
    "language_info": {
      "file_extension": ".py",
      "mimetype": "text/x-python",
      "name": "python",
      "version": "3.13.1"
    }
  },
  "nbformat_minor": 5,
  "nbformat": 4,
  "cells": [
    {
      "id": "3644ea9d-3f52-4552-8290-d02d8be15563",
      "cell_type": "code",
      "source": "!pip install google-generativeai\n\n\n\"\"\"\nImplementación del Asistente de IA para Clasificación de Gastos\n\"\"\"\n\nimport google.generativeai as genai\nimport json\nimport os\n\ngenai.configure(api_key=API_KEY)\n\n# 2. DEFINICIÓN DE LA BASE DE CONOCIMIENTO\n\nknowledge_base = {\n    \"categorias_gasto\": [\n        {\"codigo\": \"IT-HW-001\", \"descripcion\": \"Hardware de Tecnologías de la Información. Incluye laptops, desktops, servidores, monitores y periféricos como impresoras o teclados.\"},\n        {\"codigo\": \"IT-SW-002\", \"descripcion\": \"Software y Licencias de TI. Incluye suscripciones a servicios en la nube (SaaS), licencias de software de productividad y sistemas operativos.\"},\n        {\"codigo\": \"MKT-ADV-003\", \"descripcion\": \"Publicidad y Marketing Digital. Incluye gastos en campañas de Google Ads, Meta Ads y publicidad en redes sociales.\"},\n        {\"codigo\": \"OFC-SPL-004\", \"descripcion\": \"Suministros de Oficina. Incluye material de papelería, cartuchos de tinta, resmas de papel y otros consumibles de oficina.\"},\n        {\"codigo\": \"TRV-EXP-005\", \"descripcion\": \"Gastos de Viaje. Incluye boletos de avión, alojamiento en hoteles, y transporte terrestre para viajes de negocio.\"}\n    ],\n    \"ejemplos_part_numbers\": [\n        {\"part_number\": \"DELL-LAT-7490\", \"descripcion\": \"Laptop Dell Latitude 7490, 16GB RAM, 512GB SSD\", \"codigo_correcto\": \"IT-HW-001\"},\n        {\"part_number\": \"MS-O365-E3\", \"descripcion\": \"Licencia anual Microsoft Office 365 Enterprise E3\", \"codigo_correcto\": \"IT-SW-002\"},\n        {\"part_number\": \"FB-ADS-Q3\", \"descripcion\": \"Campaña de publicidad en Facebook para el tercer trimestre\", \"codigo_correcto\": \"MKT-ADV-003\"},\n        {\"part_number\": \"STAP-PPR-500\", \"descripcion\": \"Resma de papel de 500 hojas tamaño carta\", \"codigo_correcto\": \"OFC-SPL-004\"}\n    ]\n}\n\n\n# 3. FUNCIÓN PARA CREAR EL PROMPT DINÁMICO\ndef crear_prompt(item_a_clasificar, base_conocimiento):\n\n\n    categorias_str = \"\\n\".join([f\"- Código: {c['codigo']}, Descripción: {c['descripcion']}\" for c in base_conocimiento['categorias_gasto']])\n    ejemplos_str = \"\\n\".join([f\"- Descripción: \\\"{e['descripcion']}\\\" -> Código: {e['codigo_correcto']}\" for e in base_conocimiento['ejemplos_part_numbers']])\n\n\n    prompt = f\"\"\"\n    **Rol:** Eres un experto analista financiero especializado en la clasificación de gastos (Spend Classification). Tu tarea es asignar el código de gasto correcto a un item basándote en su descripción.\n\n    **Contexto - Catálogo de Códigos de Gasto:**\n    A continuación se presentan las categorías de gasto disponibles. Analiza cuidadosamente la descripción de cada una:\n    {categorias_str}\n\n    **Ejemplos de Clasificaciones Correctas (Few-Shot Learning):**\n    Usa los siguientes ejemplos para entender el patrón de clasificación:\n    {ejemplos_str}\n\n    **Tarea:**\n    Ahora, clasifica el siguiente item. Quiero que sigas un proceso de razonamiento paso a paso (Chain-of-Thought) para llegar a la conclusión.\n\n    **Item a clasificar:** \"{item_a_clasificar}\"\n\n\n    return prompt\n\n\n# 4. FUNCIÓN PRINCIPAL PARA CLASIFICAR EL GASTO (CON LLAMADA REAL A LA API)\ndef clasificar_gasto(descripcion_item, base_conocimiento, modelo):\n\n\n    prompt_completo = crear_prompt(descripcion_item, base_conocimiento)\n\n    try:\n        response = modelo.generate_content(prompt_completo)\n\n        cleaned_response_text = response.text.strip().replace(\"```json\", \"\").replace(\"```\", \"\")\n\n        resultado_json = json.loads(cleaned_response_text)\n        return resultado_json\n\n    except json.JSONDecodeError:\n\n        print(f\"Error: La respuesta del modelo no pudo ser decodificada como JSON.\")\n        print(f\"Respuesta recibida:\\n---\\n{response.text}\\n---\")\n        return {\n            \"codigo_asignado\": \"ERROR_JSON\",\n            \"razonamiento\": \"El modelo devolvió una respuesta con formato incorrecto.\"\n        }\n    except Exception as e:\n\n        print(f\"Ha ocurrido un error inesperado: {e}\")\n        return {\n            \"codigo_asignado\": \"ERROR_API\",\n            \"razonamiento\": f\"Error al comunicarse con la API: {str(e)}\"\n        }\n\n# 5. EJECUCIÓN Y DEMOSTRACIÓN\nif __name__ == '__main__':\n\n    model = genai.GenerativeModel('gemini-pro')\n\n    items_de_prueba = [\n        \"Impresora HP LaserJet Pro M404dn\",\n        \"Suscripción mensual a Salesforce CRM\",\n        \"Campaña publicitaria en Google para lanzamiento de producto\",\n        \"Cartucho de tinta negra HP 664\",\n        \"Pasaje aéreo a Madrid para conferencia\"\n    ]\n\n    print(\"--- Iniciando Clasificación Automática de Gastos ---\")\n\n    for item in items_de_prueba:\n        print(\"-\" * 40)\n        print(f\"▶️  Item a clasificar: {item}\")\n        \n        resultado = clasificar_gasto(item, knowledge_base, model)\n        \n        print(f\"✅ Código Asignado: {resultado.get('codigo_asignado', 'N/A')}\")\n        print(f\"🧠 Razonamiento: {resultado.get('razonamiento', 'N/A')}\")\n\n    print(\"\\n--- Clasificación Finalizada ---\")",
      "metadata": {
        "trusted": true
      },
      "outputs": [],
      "execution_count": null
    },
    {
      "id": "a973600d-7670-4267-993d-8a8990705913",
      "cell_type": "code",
      "source": "",
      "metadata": {
        "trusted": true
      },
      "outputs": [],
      "execution_count": null
    },
    {
      "id": "dff4a3fe-2e6c-4f44-8d4e-4b6e43159319",
      "cell_type": "code",
      "source": "",
      "metadata": {
        "trusted": true
      },
      "outputs": [],
      "execution_count": null
    }
  ]
}