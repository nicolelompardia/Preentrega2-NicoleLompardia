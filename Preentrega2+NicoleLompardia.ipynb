{
  "metadata": {
    "kernelspec": {
      "name": "xpython",
      "display_name": "Python 3.13 (XPython)",
      "language": "python"
    },
    "language_info": {
      "file_extension": ".py",
      "mimetype": "text/x-python",
      "name": "python",
      "version": "3.13.1"
    }
  },
  "nbformat_minor": 5,
  "nbformat": 4,
  "cells": [
    {
      "id": "25187abf-aad9-40ab-9da7-e91f73059360",
      "cell_type": "code",
      "source": "knowledge_base = {\n    \"categorias_gasto\": [\n        {\"codigo\": \"IT-HW-001\", \"descripcion\": \"Hardware de Tecnologías de la Información. Incluye laptops, desktops, servidores, monitores y periféricos.\"},\n        {\"codigo\": \"IT-SW-002\", \"descripcion\": \"Software y Licencias de TI. Incluye suscripciones a servicios en la nube (SaaS), licencias de software de productividad y sistemas operativos.\"},\n        {\"codigo\": \"MKT-ADV-003\", \"descripcion\": \"Publicidad y Marketing Digital. Incluye gastos en campañas de Google Ads, Meta Ads y publicidad en redes sociales.\"},\n        {\"codigo\": \"OFC-SPL-004\", \"descripcion\": \"Suministros de Oficina. Incluye material de papelería, cartuchos de tinta, y otros consumibles de oficina.\"},\n    ],\n    \"ejemplos_part_numbers\": [\n        {\"part_number\": \"DELL-LAT-7490\", \"descripcion\": \"Laptop Dell Latitude 7490, 16GB RAM, 512GB SSD\", \"codigo_correcto\": \"IT-HW-001\"},\n        {\"part_number\": \"MS-O365-E3\", \"descripcion\": \"Licencia anual Microsoft Office 365 Enterprise E3\", \"codigo_correcto\": \"IT-SW-002\"},\n        {\"part_number\": \"FB-ADS-Q3\", \"descripcion\": \"Campaña de publicidad en Facebook para el tercer trimestre\", \"codigo_correcto\": \"MKT-ADV-003\"}\n    ]\n}",
      "metadata": {
        "trusted": true
      },
      "outputs": [],
      "execution_count": null
    },
    {
      "id": "bc4fb61c-17bd-4d60-a9a3-394b47237911",
      "cell_type": "code",
      "source": "import google.generativeai as genai\nimport json\n\n# Configura tu API Key\n# genai.configure(api_key=\"TU_API_KEY\")\n\n# Modelo a utilizar\n# model = genai.GenerativeModel('gemini-pro')\n\ndef crear_prompt(item_a_clasificar, base_conocimiento):\n   \n    categorias_str = \"\\n\".join([f\"- Código: {c['codigo']}, Descripción: {c['descripcion']}\" for c in base_conocimiento['categorias_gasto']])\n    ejemplos_str = \"\\n\".join([f\"- Descripción: \\\"{e['descripcion']}\\\" -> Código: {e['codigo_correcto']}\" for e in base_conocimiento['ejemplos_part_numbers']])\n\n    prompt = f\"\"\"\n\n    {categorias_str}\n\n    {ejemplos_str}\n\n\n    **Item a clasificar:** \"{item_a_clasificar}\"\n\n   \n    \"\"\"\n    return prompt\n\ndef clasificar_gasto(descripcion_item, base_conocimiento, modelo):\n    prompt_completo = crear_prompt(descripcion_item, base_conocimiento)\n    # response = modelo.generate_content(prompt_completo)\n    # return json.loads(response.text)\n    \n    # --- SIMULACIÓN DE RESPUESTA DEL MODELO PARA DEMOSTRACIÓN ---\n\n    if \"impresora\" in descripcion_item.lower():\n        return {\n            \"codigo_asignado\": \"IT-HW-001\",\n            \"razonamiento\": \"La descripción menciona 'Impresora HP LaserJet', que es un dispositivo de hardware de TI. Por lo tanto, corresponde a la categoría de Hardware.\"\n        }\n    else:\n        return {\n            \"codigo_asignado\": \"OFC-SPL-004\",\n            \"razonamiento\": \"La descripción no coincide claramente con las categorías de TI o Marketing. Se asume que 'Resma de papel' es un suministro de oficina.\"\n        }\n\n\n# --- DEMOSTRACIÓN ---\nitem_nuevo = \"Impresora HP LaserJet Pro M404dn\"\nresultado = clasificar_gasto(item_nuevo, knowledge_base, None) # Se pasa 'None' para la simulación\n\nprint(f\"Item a clasificar: {item_nuevo}\")\nprint(f\"Código Asignado: {resultado['codigo_asignado']}\")\nprint(f\"Razonamiento: {resultado['razonamiento']}\")",
      "metadata": {
        "trusted": true
      },
      "outputs": [],
      "execution_count": null
    }
  ]
}